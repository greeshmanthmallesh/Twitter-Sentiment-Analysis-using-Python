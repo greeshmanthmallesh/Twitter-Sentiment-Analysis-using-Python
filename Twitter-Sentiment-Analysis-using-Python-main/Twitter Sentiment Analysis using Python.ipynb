{
 "cells": [
  {
   "cell_type": "code",
   "execution_count": 16,
   "id": "c3a2e0e9",
   "metadata": {
    "scrolled": true
   },
   "outputs": [
    {
     "name": "stdout",
     "output_type": "stream",
     "text": [
      "                    id                                          tweetText  \\\n",
      "0  1797604320709677326  रेल यात्रा के दौरान सहायता के लिए #RailMadad ऐ...   \n",
      "1  1797528091071574479  Gaze into the beauty of the majestic hills sur...   \n",
      "2  1797320716917825825  Be a #ResponsibleRailYatri and don’t fall into...   \n",
      "3  1797319983485026391  @umashankarsingh क्या आप को पता है -\\nNew Delh...   \n",
      "4  1797141608359763981  Eclipsed by the enormity of a hill in the back...   \n",
      "\n",
      "                                            tweetURL     type  \\\n",
      "0  https://x.com/RailMinIndia/status/179760432070...    tweet   \n",
      "1  https://x.com/RailMinIndia/status/179752809107...    tweet   \n",
      "2  https://x.com/RailMinIndia/status/179732071691...    tweet   \n",
      "3  https://x.com/RailMinIndia/status/179731998348...  retweet   \n",
      "4  https://x.com/RailMinIndia/status/179714160835...    tweet   \n",
      "\n",
      "            tweetAuthor         handle  replyCount  quoteCount  retweetCount  \\\n",
      "0  Ministry of Railways  @RailMinIndia          21           0            48   \n",
      "1  Ministry of Railways  @RailMinIndia          11           1           124   \n",
      "2  Ministry of Railways  @RailMinIndia          33           0           228   \n",
      "3          DRM Delhi NR       @drm_dli           0           0            96   \n",
      "4  Ministry of Railways  @RailMinIndia          32           0           259   \n",
      "\n",
      "   likeCount  views  bookmarkCount            createdAt  \\\n",
      "0        123  12951              1  2024-06-03 17:50:42   \n",
      "1        256  20164              1  2024-06-03 12:47:48   \n",
      "2        355  39643              1  2024-06-02 23:03:46   \n",
      "3          0      -              0  2024-06-02 23:00:51   \n",
      "4        495  39254              3  2024-06-02 11:12:03   \n",
      "\n",
      "                                       allMediaURL videoURL  \n",
      "0  https://pbs.twimg.com/media/GPJfl4eXMAE41IC.jpg      NaN  \n",
      "1  https://pbs.twimg.com/media/GPIaREgXQAAIPA6.jpg      NaN  \n",
      "2  https://pbs.twimg.com/media/GPFdqI_WsAAOSjh.jpg      NaN  \n",
      "3                                              NaN      NaN  \n",
      "4  https://pbs.twimg.com/media/GPC6wo6WIAAen-6.jpg      NaN  \n"
     ]
    }
   ],
   "source": [
    "import pandas as pd\n",
    "import numpy as np\n",
    "from sklearn.feature_extraction.text import CountVectorizer\n",
    "from sklearn.model_selection import train_test_split\n",
    "from sklearn.tree import DecisionTreeClassifier\n",
    "import re\n",
    "import nltk\n",
    "import nltk\n",
    "\n",
    "data = pd.read_csv(\"TwExtract-RailMinIndia-20240603_202513.csv\")\n",
    "print(data.head())"
   ]
  },
  {
   "cell_type": "code",
   "execution_count": 17,
   "id": "9f5985d1",
   "metadata": {},
   "outputs": [
    {
     "name": "stderr",
     "output_type": "stream",
     "text": [
      "[nltk_data] Downloading package stopwords to\n",
      "[nltk_data]     C:\\Users\\user\\AppData\\Roaming\\nltk_data...\n",
      "[nltk_data]   Package stopwords is already up-to-date!\n"
     ]
    }
   ],
   "source": [
    "nltk.download('stopwords')\n",
    "stemmer = nltk.SnowballStemmer(\"english\")\n",
    "from nltk.corpus import stopwords\n",
    "import string\n",
    "stopword=set(stopwords.words('english'))\n",
    "\n",
    "def clean(text):\n",
    "    text = str(text).lower()\n",
    "    text = re.sub('\\[.*?\\]', '', text)\n",
    "    text = re.sub('https?://\\S+|www\\.\\S+', '', text)\n",
    "    text = re.sub('<.*?>+', '', text)\n",
    "    text = re.sub('[%s]' % re.escape(string.punctuation), '', text)\n",
    "    text = re.sub('\\n', '', text)\n",
    "    text = re.sub('\\w*\\d\\w*', '', text)\n",
    "    text = [word for word in text.split(' ') if word not in stopword]\n",
    "    text=\" \".join(text)\n",
    "    text = [stemmer.stem(word) for word in text.split(' ')]\n",
    "    text=\" \".join(text)\n",
    "    return text\n",
    "data[\"tweetText\"] = data[\"tweetText\"].apply(clean)"
   ]
  },
  {
   "cell_type": "code",
   "execution_count": 18,
   "id": "96f7bb54",
   "metadata": {},
   "outputs": [
    {
     "name": "stderr",
     "output_type": "stream",
     "text": [
      "[nltk_data] Downloading package vader_lexicon to\n",
      "[nltk_data]     C:\\Users\\user\\AppData\\Roaming\\nltk_data...\n",
      "[nltk_data]   Package vader_lexicon is already up-to-date!\n"
     ]
    }
   ],
   "source": [
    "\n",
    "from nltk.sentiment.vader import SentimentIntensityAnalyzer\n",
    "nltk.download('vader_lexicon')\n",
    "sentiments = SentimentIntensityAnalyzer()\n",
    "data[\"Positive\"] = [sentiments.polarity_scores(i)[\"pos\"] for i in data[\"tweetText\"]]\n",
    "data[\"Negative\"] = [sentiments.polarity_scores(i)[\"neg\"] for i in data[\"tweetText\"]]\n",
    "data[\"Neutral\"] = [sentiments.polarity_scores(i)[\"neu\"] for i in data[\"tweetText\"]]"
   ]
  },
  {
   "cell_type": "code",
   "execution_count": 20,
   "id": "1e141d9d",
   "metadata": {},
   "outputs": [
    {
     "name": "stdout",
     "output_type": "stream",
     "text": [
      "                                           tweetText  Positive  Negative  \\\n",
      "0  रेल यात्रा के दौरान सहायता के लिए railmadad ऐप...     0.000     0.000   \n",
      "1  gaze beauti majest hill surround khongsang rai...     0.000     0.000   \n",
      "2  responsiblerailyatri don't fall trap purchas t...     0.219     0.000   \n",
      "3  umashankarsingh क्या आप को पता है new delhi rl...     0.000     0.037   \n",
      "4  eclips enorm hill background train march near ...     0.000     0.000   \n",
      "\n",
      "   Neutral  \n",
      "0    1.000  \n",
      "1    1.000  \n",
      "2    0.781  \n",
      "3    0.963  \n",
      "4    1.000  \n"
     ]
    }
   ],
   "source": [
    "\n",
    "data = data[[\"tweetText\", \"Positive\", \n",
    "             \"Negative\", \"Neutral\"]]\n",
    "print(data.head())"
   ]
  },
  {
   "cell_type": "code",
   "execution_count": 21,
   "id": "361c02a1",
   "metadata": {},
   "outputs": [
    {
     "name": "stdout",
     "output_type": "stream",
     "text": [
      "Neutral 🙂 \n"
     ]
    }
   ],
   "source": [
    "\n",
    "x = sum(data[\"Positive\"])\n",
    "y = sum(data[\"Negative\"])\n",
    "z = sum(data[\"Neutral\"])\n",
    "\n",
    "def sentiment_score(a, b, c):\n",
    "    if (a>b) and (a>c):\n",
    "        print(\"Positive 😊 \")\n",
    "    elif (b>a) and (b>c):\n",
    "        print(\"Negative 😠 \")\n",
    "    else:\n",
    "        print(\"Neutral 🙂 \")\n",
    "sentiment_score(x, y, z)"
   ]
  },
  {
   "cell_type": "code",
   "execution_count": 22,
   "id": "423453db",
   "metadata": {},
   "outputs": [
    {
     "name": "stdout",
     "output_type": "stream",
     "text": [
      "Positive:  23.236\n",
      "Negative:  3.3710000000000004\n",
      "Neutral:  170.39100000000002\n"
     ]
    }
   ],
   "source": [
    "print(\"Positive: \", x)\n",
    "print(\"Negative: \", y)\n",
    "print(\"Neutral: \", z)"
   ]
  },
  {
   "cell_type": "code",
   "execution_count": null,
   "id": "fdd25d47",
   "metadata": {},
   "outputs": [],
   "source": []
  }
 ],
 "metadata": {
  "kernelspec": {
   "display_name": "Python 3 (ipykernel)",
   "language": "python",
   "name": "python3"
  },
  "language_info": {
   "codemirror_mode": {
    "name": "ipython",
    "version": 3
   },
   "file_extension": ".py",
   "mimetype": "text/x-python",
   "name": "python",
   "nbconvert_exporter": "python",
   "pygments_lexer": "ipython3",
   "version": "3.11.4"
  }
 },
 "nbformat": 4,
 "nbformat_minor": 5
}
